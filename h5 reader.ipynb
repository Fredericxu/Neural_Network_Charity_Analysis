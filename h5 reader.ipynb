{
 "cells": [
  {
   "cell_type": "code",
   "execution_count": 1,
   "id": "17ad9041",
   "metadata": {},
   "outputs": [
    {
     "name": "stdout",
     "output_type": "stream",
     "text": [
      "Requirement already satisfied: h5py in d:\\anaconda\\lib\\site-packages (2.10.0)\n",
      "Requirement already satisfied: six in d:\\anaconda\\lib\\site-packages (from h5py) (1.15.0)\n",
      "Requirement already satisfied: numpy>=1.7 in d:\\anaconda\\lib\\site-packages (from h5py) (1.20.1)\n"
     ]
    }
   ],
   "source": [
    "!pip install h5py"
   ]
  },
  {
   "cell_type": "code",
   "execution_count": 2,
   "id": "c9a34386",
   "metadata": {},
   "outputs": [],
   "source": [
    "import h5py\n",
    "import numpy as np\n",
    "\n",
    "arr = np.random.randn(1000)\n",
    "\n",
    "with h5py.File('AlphabetSoupCharity_Optimzation.h5', 'w') as f:\n",
    "    dset = f.create_dataset(\"default\", data=arr)"
   ]
  },
  {
   "cell_type": "code",
   "execution_count": 6,
   "id": "7cea7508",
   "metadata": {},
   "outputs": [
    {
     "name": "stdout",
     "output_type": "stream",
     "text": [
      "-3.7461207917399406\n",
      "3.3275400024078574\n",
      "[ 0.46060805  0.43490411 -2.15099498 -0.32311642 -0.49087327 -2.17115517\n",
      "  0.01118585 -1.21338405  3.32754     1.27013756  0.68960015 -1.91462664\n",
      "  1.00913401 -1.82018102  0.83954704]\n"
     ]
    }
   ],
   "source": [
    "with h5py.File('AlphabetSoupCharity_Optimzation.h5', 'r') as f:\n",
    "    data = f['default']\n",
    "    print(min(data))\n",
    "    print(max(data))\n",
    "    print(data[:15])"
   ]
  },
  {
   "cell_type": "code",
   "execution_count": null,
   "id": "76ef03b2",
   "metadata": {},
   "outputs": [],
   "source": []
  }
 ],
 "metadata": {
  "kernelspec": {
   "display_name": "Python 3",
   "language": "python",
   "name": "python3"
  },
  "language_info": {
   "codemirror_mode": {
    "name": "ipython",
    "version": 3
   },
   "file_extension": ".py",
   "mimetype": "text/x-python",
   "name": "python",
   "nbconvert_exporter": "python",
   "pygments_lexer": "ipython3",
   "version": "3.8.8"
  }
 },
 "nbformat": 4,
 "nbformat_minor": 5
}
